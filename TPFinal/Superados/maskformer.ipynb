{
 "cells": [
  {
   "cell_type": "code",
   "execution_count": 1,
   "metadata": {},
   "outputs": [
    {
     "name": "stderr",
     "output_type": "stream",
     "text": [
      "d:\\Users\\juanp_schamun\\AppData\\Local\\anaconda3\\envs\\ViT\\Lib\\site-packages\\transformers\\utils\\deprecation.py:165: FutureWarning: `max_size` is deprecated and removed starting from version 4.27.0 for `MaskFormerImageProcessor.__init__`.\n",
      "  return func(*args, **kwargs)\n",
      "Hardware accelerator e.g. GPU is available in the environment, but no `device` argument is passed to the `Pipeline` object. Model will be on CPU.\n",
      "`label_ids_to_fuse` unset. No instance will be fused.\n"
     ]
    },
    {
     "data": {
      "text/plain": [
       "[{'score': 0.993197,\n",
       "  'label': 'remote',\n",
       "  'mask': <PIL.Image.Image image mode=L size=640x480>},\n",
       " {'score': 0.997852,\n",
       "  'label': 'cat',\n",
       "  'mask': <PIL.Image.Image image mode=L size=640x480>},\n",
       " {'score': 0.998006,\n",
       "  'label': 'remote',\n",
       "  'mask': <PIL.Image.Image image mode=L size=640x480>},\n",
       " {'score': 0.997469,\n",
       "  'label': 'cat',\n",
       "  'mask': <PIL.Image.Image image mode=L size=640x480>}]"
      ]
     },
     "execution_count": 1,
     "metadata": {},
     "output_type": "execute_result"
    }
   ],
   "source": [
    "from transformers import pipeline\n",
    "from PIL import Image\n",
    "import requests\n",
    "\n",
    "segmentation = pipeline(\"image-segmentation\", \"facebook/maskformer-swin-base-coco\")\n",
    "\n",
    "url = \"http://images.cocodataset.org/val2017/000000039769.jpg\"\n",
    "image = Image.open(requests.get(url, stream=True).raw)\n",
    "\n",
    "results = segmentation(images=image, subtask=\"panoptic\")\n",
    "results"
   ]
  }
 ],
 "metadata": {
  "kernelspec": {
   "display_name": "ViT",
   "language": "python",
   "name": "python3"
  },
  "language_info": {
   "codemirror_mode": {
    "name": "ipython",
    "version": 3
   },
   "file_extension": ".py",
   "mimetype": "text/x-python",
   "name": "python",
   "nbconvert_exporter": "python",
   "pygments_lexer": "ipython3",
   "version": "3.11.10"
  }
 },
 "nbformat": 4,
 "nbformat_minor": 2
}
